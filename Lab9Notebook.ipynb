{
 "cells": [
  {
   "cell_type": "markdown",
   "metadata": {},
   "source": [
    "More linear models: multiple factors, stepwise selection, binomial response variables"
   ]
  },
  {
   "cell_type": "code",
   "execution_count": null,
   "metadata": {},
   "outputs": [],
   "source": [
    "library(mosaic)\n",
    "library(car)\n",
    "library(ggplot2)\n",
    "library(MASS)\n",
    "library(plyr)\n",
    "library(emmeans)"
   ]
  },
  {
   "cell_type": "markdown",
   "metadata": {},
   "source": [
    "To reduce variation in the error, we can include a block variable like age, plot, sex, litter, or location.\n",
    "\n",
    "Example from the book, 12.3. \n",
    "\n",
    "*Note: I am reading this data in manually because this works better for the Jupyter notebook but you can just use the algae12.xlxs data set imported into R*"
   ]
  },
  {
   "cell_type": "code",
   "execution_count": null,
   "metadata": {},
   "outputs": [],
   "source": [
    "Lake<-c(\"A\",\"B\",\"C\",\"D\",\"A\",\"B\",\"C\",\"D\",\"A\",\"B\",\"C\",\"D\")\n",
    "CC<-c(425,500,100,325,139,215,30,100,56,115,10,28)\n",
    "Depth<-c(\"Surface\",\"Surface\",\"Surface\",\"Surface\", \"m1\", \"m1\", \"m1\", \"m1\", \"m3\", \"m3\", \"m3\", \"m3\")\n",
    "\n",
    "D1<-cbind.data.frame(Lake,CC)\n",
    "algae<-cbind.data.frame(D1,Depth)\n",
    "algae"
   ]
  },
  {
   "cell_type": "markdown",
   "metadata": {},
   "source": [
    "Does algae chlorophyll concentration (CC) differ between depths? We control for lake"
   ]
  },
  {
   "cell_type": "code",
   "execution_count": null,
   "metadata": {},
   "outputs": [],
   "source": [
    "lm1<-lm(CC~Depth+Lake, data=algae)\n",
    "anova(lm1)"
   ]
  },
  {
   "cell_type": "markdown",
   "metadata": {},
   "source": [
    "We find that chlorophyll concentration does differ between depth (p=0.003) after accounting for variation in lakes (which is also significant p=0.035)."
   ]
  },
  {
   "cell_type": "code",
   "execution_count": null,
   "metadata": {},
   "outputs": [],
   "source": [
    "ggplot(algae, aes(x=Depth, y=CC,color=Lake)) + geom_point(size=5) +theme(panel.border = element_blank(), panel.grid.major = element_blank(), panel.grid.minor = element_blank(), axis.line = element_line(colour = \"black\"), axis.text=element_text(size=24), axis.title=element_text(size=24,face=\"bold\"))"
   ]
  },
  {
   "cell_type": "markdown",
   "metadata": {},
   "source": [
    "Two-way factorial ANOVA\n",
    "\n",
    "In a two-way ANOVA, we have two factors (rather than a factor and a block) and we can look at interactions between these factors. Interactions are coded as \"*\" or \":\"\n",
    "Example from the book, 12.6. "
   ]
  },
  {
   "cell_type": "code",
   "execution_count": null,
   "metadata": {},
   "outputs": [],
   "source": [
    "Age<-c(\"A\",\"A\",\"A\",\"A\",\"A\",\"M\",\"M\",\"M\",\"M\",\"M\",\"O\",\"O\",\"O\",\"O\",\"O\")\n",
    "Sex<-c(rep(\"M\", 15))\n",
    "BP<-c(108,110,90,80,100,120,125,130,120,130,145,150,130,155,140)\n",
    "       \n",
    "D1<-cbind.data.frame(Sex,BP)\n",
    "Males<-cbind.data.frame(D1,Age)\n",
    "Males"
   ]
  },
  {
   "cell_type": "code",
   "execution_count": null,
   "metadata": {},
   "outputs": [],
   "source": [
    "Sex2<-c(rep(\"F\",15))\n",
    "BP2<-c(110,105,100,90,102,110,105,115,100,120,130,125,135,130,120)\n",
    "\n",
    "D2<-cbind.data.frame(Sex2,BP2)\n",
    "Females<-cbind.data.frame(D2,Age)\n",
    "colnames(Females)<-c(\"Sex\",\"BP\",\"Age\")\n",
    "Females"
   ]
  },
  {
   "cell_type": "code",
   "execution_count": null,
   "metadata": {},
   "outputs": [],
   "source": [
    "Hamster<-rbind.data.frame(Males,Females)\n",
    "Hamster"
   ]
  },
  {
   "cell_type": "code",
   "execution_count": null,
   "metadata": {},
   "outputs": [],
   "source": [
    "mod2<-lm(BP~Age+Sex+Age:Sex,data=Hamster)\n",
    "anova(mod2)"
   ]
  },
  {
   "cell_type": "markdown",
   "metadata": {},
   "source": [
    "There is a significant interaction between Age and Sez (p=0.0239). Let's visualize it."
   ]
  },
  {
   "cell_type": "code",
   "execution_count": null,
   "metadata": {},
   "outputs": [],
   "source": [
    "ggplot(Hamster, aes(x=Age, y=BP,fill=Sex)) + geom_boxplot() +theme(panel.border = element_blank(), panel.grid.major = element_blank(), panel.grid.minor = element_blank(), axis.line = element_line(colour = \"black\"), axis.text=element_text(size=24), axis.title=element_text(size=24,face=\"bold\"))"
   ]
  },
  {
   "cell_type": "markdown",
   "metadata": {},
   "source": [
    "We can see that males have a stronger effect of age than females. The sexes are not different at adolescence (\"A\") but are very different when old (\"O\")"
   ]
  },
  {
   "cell_type": "markdown",
   "metadata": {},
   "source": [
    "Stepwise model selection"
   ]
  },
  {
   "cell_type": "code",
   "execution_count": null,
   "metadata": {},
   "outputs": [],
   "source": [
    "summary(iris)"
   ]
  },
  {
   "cell_type": "code",
   "execution_count": null,
   "metadata": {},
   "outputs": [],
   "source": [
    "fullmod<-lm(Sepal.Length~Sepal.Width+Species+ Species:Sepal.Width,data=iris)\n",
    "shapiro.test(resid(fullmod))\n",
    "qqPlot(fullmod, simulate=F)\n",
    "plot(fullmod)"
   ]
  },
  {
   "cell_type": "markdown",
   "metadata": {},
   "source": [
    "Because the residuals are not normal, lets try a transformation"
   ]
  },
  {
   "cell_type": "code",
   "execution_count": null,
   "metadata": {},
   "outputs": [],
   "source": [
    "iris$RootSepLen<-sqrt(iris$Sepal.Length)\n",
    "summary(iris)"
   ]
  },
  {
   "cell_type": "code",
   "execution_count": null,
   "metadata": {},
   "outputs": [],
   "source": [
    "fullmod2<-lm(RootSepLen~Sepal.Width+Species+ Species:Sepal.Width,data=iris)\n",
    "shapiro.test(resid(fullmod2))\n",
    "qqPlot(fullmod2, simulate=F)\n",
    "plot(fullmod2)"
   ]
  },
  {
   "cell_type": "markdown",
   "metadata": {},
   "source": [
    "That helped, so let's continue with our transformed sqare-root model and do model selection"
   ]
  },
  {
   "cell_type": "code",
   "execution_count": null,
   "metadata": {},
   "outputs": [],
   "source": [
    "step<-stepAIC(fullmod2)\n",
    "step$anova"
   ]
  },
  {
   "cell_type": "markdown",
   "metadata": {},
   "source": [
    "We conclude we should removed the interaction from the model and our final model is just Sepal.Width and Species"
   ]
  },
  {
   "cell_type": "code",
   "execution_count": null,
   "metadata": {},
   "outputs": [],
   "source": [
    "bestmod<-lm(RootSepLen~Sepal.Width+Species,data=iris)\n",
    "Anova(bestmod,type=3)\n",
    "lsmeans(bestmod, pairwise ~ Species,adjust = \"Tukey\")"
   ]
  },
  {
   "cell_type": "code",
   "execution_count": null,
   "metadata": {},
   "outputs": [],
   "source": [
    "ggplot(iris, aes(x=Sepal.Width, y=RootSepLen,color=Species)) + geom_point(size=5) +theme(panel.border = element_blank(), panel.grid.major = element_blank(), panel.grid.minor = element_blank(), axis.line = element_line(colour = \"black\"), axis.text=element_text(size=24), axis.title=element_text(size=24,face=\"bold\"))"
   ]
  },
  {
   "cell_type": "markdown",
   "metadata": {},
   "source": [
    "Generalized linear models for binomial variables (logistic regression)\n",
    "\n",
    "Used when our response is a yes/no variable following a binomial distribution\n",
    "\n",
    "Example: British Election Panel Study we will look at what is associated with voting for the Labour party 1= Labour voted, 0=Vote for other party\n",
    "We will test is this is related to age or gender"
   ]
  },
  {
   "cell_type": "code",
   "execution_count": null,
   "metadata": {},
   "outputs": [],
   "source": [
    "data(BEPS)\n",
    "BEPS$Labour<-ifelse(BEPS$vote==\"Labour\",1,0)\n",
    "summary(BEPS)"
   ]
  },
  {
   "cell_type": "code",
   "execution_count": null,
   "metadata": {},
   "outputs": [],
   "source": [
    "mod5<-glm(Labour~age+ gender,data=BEPS)\n",
    "summary(mod5)\n",
    "anova(mod5)"
   ]
  },
  {
   "cell_type": "markdown",
   "metadata": {},
   "source": [
    "Only age is significant. Let's look at the proportion voting for labour or not relative to age. \n",
    "To plot, we will break the data up using the cut function and summarize using ddply to get the proportion that vote labour in each age group."
   ]
  },
  {
   "cell_type": "code",
   "execution_count": null,
   "metadata": {},
   "outputs": [],
   "source": [
    "AGroup<-c(20,45,70,95)\n",
    "BEPS$Age_Group<-cut(BEPS$age,breaks=AGroup)\n",
    "Sum.BEPS<-ddply(BEPS, c(\"Age_Group\"),summarise, numVote=sum(Labour), total=sum(!is.na(Labour)), PropVote=numVote/total)\n",
    "Sum.BEPS"
   ]
  },
  {
   "cell_type": "markdown",
   "metadata": {},
   "source": [
    "Now we can plot the proprotion that vote labour for different groups"
   ]
  },
  {
   "cell_type": "code",
   "execution_count": null,
   "metadata": {},
   "outputs": [],
   "source": [
    "ggplot(Sum.BEPS, aes(x=Age_Group, y=PropVote))+geom_bar(stat=\"identity\")+theme(panel.border = element_blank(), panel.grid.major = element_blank(), panel.grid.minor = element_blank(), axis.line = element_line(colour = \"black\"), axis.text=element_text(size=24), axis.title=element_text(size=24,face=\"bold\"))"
   ]
  },
  {
   "cell_type": "code",
   "execution_count": null,
   "metadata": {},
   "outputs": [],
   "source": []
  }
 ],
 "metadata": {
  "kernelspec": {
   "display_name": "R",
   "language": "R",
   "name": "ir"
  },
  "language_info": {
   "codemirror_mode": "r",
   "file_extension": ".r",
   "mimetype": "text/x-r-source",
   "name": "R",
   "pygments_lexer": "r",
   "version": "3.5.1"
  }
 },
 "nbformat": 4,
 "nbformat_minor": 2
}
